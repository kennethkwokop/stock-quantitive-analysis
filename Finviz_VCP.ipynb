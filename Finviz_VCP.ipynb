{
  "cells": [
    {
      "cell_type": "markdown",
      "metadata": {
        "id": "view-in-github",
        "colab_type": "text"
      },
      "source": [
        "<a href=\"https://colab.research.google.com/github/kennethkwokop/stock-quantitive-analysis/blob/main/Finviz_VCP.ipynb\" target=\"_parent\"><img src=\"https://colab.research.google.com/assets/colab-badge.svg\" alt=\"Open In Colab\"/></a>"
      ]
    },
    {
      "cell_type": "code",
      "execution_count": null,
      "id": "b77c1de3-a3a6-4ef8-a67f-68e82ad737eb",
      "metadata": {
        "scrolled": true,
        "tags": [],
        "id": "b77c1de3-a3a6-4ef8-a67f-68e82ad737eb"
      },
      "outputs": [],
      "source": [
        "import requests\n",
        "import pandas as pd\n",
        "headers = {'user-agent': 'Mozilla/5.0 (Macintosh; Intel Mac OS X 10_11_6) AppleWebKit/605.1.15 (KHTML, like Gecko) Version/11.1.2 Safari/605.1.15'}\n",
        "def get_screener(version):\n",
        "    screen= requests.get('https://finviz.com/screener.ashx?v=171&f=fa_salesqoq_o5,geo_usa,ind_stocksonly,sh_curvol_o50,sh_instown_o10,sh_price_o20,sh_relvol_o1.5,ta_highlow52w_b0to10h,ta_sma200_sb50,ta_sma50_pa&ft={version}',headers=headers).text\n",
        "    tables = pd.read_html(screen)\n",
        "    tables= tables[-2]\n",
        "    tables.columns=[tables.iloc[0,:]]\n",
        "    tables.drop(0,axis=0,inplace=True)\n",
        "    tables.drop('No.',axis=1,inplace=True)\n",
        "    stocklist=list(tables.iloc[:,0])\n",
        "    return stocklist\n",
        "\n",
        "list1=[4]+list(range(21,91,20))\n",
        "# stocklist=pd.DataFrame(columns=['Ticker'])\n",
        "stocklist=[]\n",
        "for i in list1:\n",
        "    stocklists=get_screener(i)\n",
        "    for j in stocklists:\n",
        "        stocklist.append(j)\n",
        "#         stocklist.append({'Ticker':j}, ignore_index=True)\n"
      ]
    },
    {
      "cell_type": "code",
      "execution_count": null,
      "id": "d313ffec-e4bf-4b44-bfd0-7260715ea40c",
      "metadata": {
        "tags": [],
        "id": "d313ffec-e4bf-4b44-bfd0-7260715ea40c",
        "outputId": "557c5a16-0cc2-4d58-d6ea-a4f4aafaccfe"
      },
      "outputs": [
        {
          "name": "stdout",
          "output_type": "stream",
          "text": [
  
            "    Stock  50 Day MA  150 Day Ma  200 Day MA  52 Week Low  52 week High\n",
            "0    BRKR      80.12       78.35       74.69    49.088783     91.360001\n",
            "1     CCK     105.26      104.99      103.70    85.337273    113.099815\n",
            "2     CVA      20.15       18.58       17.42    11.431864     20.250000\n",
            "3    ENTA      74.88       57.16       55.53    41.020000     97.370003\n",
            "4    FFIC      23.48       22.66       22.38    13.133356     24.750000\n",
            "5   FWONA      50.95       45.02       43.80    35.529999     57.740002\n",
            "6    HCCI      31.95       30.20       29.52    19.270000     35.450001\n",
            "7    IRMD      36.59       33.17       30.96    22.299999     43.000000\n",
            "8     KAI     218.74      195.68      190.42   127.186073    240.000000\n",
            "9    MAIN      43.18       41.43       40.36    29.087046     46.590000\n",
            "10    MOV      35.17       32.38       30.69    13.631374     47.660000\n",
            "11   SITM     241.20      173.56      156.24    79.480003    300.980011\n",
            "12   WIRE     118.82       92.84       86.75    51.612919    147.979996\n"
          ]
        }
      ],
      "source": [
        "import datetime as dt\n",
        "from pandas_datareader import data as pdr\n",
        "import yfinance as yf\n",
        "from tkinter import Tk\n",
        "from tkinter.filedialog import askopenfilename\n",
        "import os\n",
        "from pandas import ExcelWriter\n",
        "import talib\n",
        "\n",
        "yf.pdr_override() \n",
        "start =dt.datetime(2020,1,1)\n",
        "now = dt.datetime.now()\n",
        "exportList= pd.DataFrame(columns=['Stock',\"50 Day MA\", \"150 Day Ma\", \"200 Day MA\", \"52 Week Low\", \"52 week High\"])\n",
        "\n",
        "for i in range(len(stocklist)):\n",
        "    stock= str(stocklist[i])\n",
        "    yf.pdr_override() \n",
        "    df = pdr.get_data_yahoo(stock, start, now)\n",
        "    \n",
        "    smaUsed=[50,150,200]\n",
        "    for x in smaUsed:\n",
        "        sma=x\n",
        "        df[\"SMA_\"+str(sma)]=round(df.iloc[:,4].rolling(window=sma).mean(),2)\n",
        "\n",
        "\n",
        "    currentClose=df[\"Adj Close\"][-1]\n",
        "    moving_average_50=df[\"SMA_50\"][-1]\n",
        "    moving_average_150=df[\"SMA_150\"][-1]\n",
        "    moving_average_200=df[\"SMA_200\"][-1]\n",
        "    low_of_52week=min(df[\"Adj Close\"][-260:])\n",
        "    high_of_52week=max(df[\"Adj Close\"][-260:])\n",
        "    tnm50=df['Volume'][-50:].mean()\n",
        "    vol=df['Volume'][-1]\n",
        "    df['will'] = talib.WILLR(df.High, df.Low, df.Close, timeperiod=14)\n",
        "    will=df['will'][-1]\n",
        "    will_p=df['will'][-2]\n",
        "    \n",
        "    try:\n",
        "        moving_average_200_20 = df[\"SMA_200\"][-20]\n",
        "\n",
        "    except Exception:\n",
        "        moving_average_200_20=0\n",
        "\n",
        "    #Condition 1: Current Price > 150 SMA and > 200 SMA\n",
        "    if(currentClose>moving_average_150>moving_average_200):\n",
        "        cond_1=True\n",
        "    else:\n",
        "        cond_1=False\n",
        "    #Condition 2: 150 SMA and > 200 SMA\n",
        "    if(moving_average_150>moving_average_200):\n",
        "        cond_2=True\n",
        "    else:\n",
        "        cond_2=False\n",
        "    #Condition 3: 200 SMA trending up for at least 1 month (ideally 4-5 months)\n",
        "    if(moving_average_200>moving_average_200_20):\n",
        "        cond_3=True\n",
        "    else:\n",
        "        cond_3=False\n",
        "    #Condition 4: 50 SMA> 150 SMA and 50 SMA> 200 SMA\n",
        "    if(moving_average_50>moving_average_150>moving_average_200):\n",
        "        #print(\"Condition 4 met\")\n",
        "        cond_4=True\n",
        "    else:\n",
        "        #print(\"Condition 4 not met\")\n",
        "        cond_4=False\n",
        "    #Condition 5: Current Price > 50 SMA\n",
        "    if(currentClose>moving_average_50):\n",
        "        cond_5=True\n",
        "    else:\n",
        "        cond_5=False\n",
        "    #Condition 6: Current Price is at least 30% above 52 week low (Many of the best are up 100-300% before coming out of consolidation)\n",
        "    if(currentClose>=(1.3*low_of_52week)):\n",
        "        cond_6=True\n",
        "    else:\n",
        "        cond_6=False\n",
        "    #Condition 7: Current Price is within 25% of 52 week high\n",
        "    if(currentClose>=(.75*high_of_52week)):\n",
        "        cond_7=True\n",
        "    else:\n",
        "        cond_7=False\n",
        "        \n",
        "#     if(vol/tnm50>=1.5):\n",
        "#         cond_8=True\n",
        "#     else:\n",
        "#         cond_8=False\n",
        "        \n",
        "#     if (will>-95 and will<-70):\n",
        "#         cond_9=True\n",
        "#     else:\n",
        "#         cond_9=False\n",
        "\n",
        "#     if (will > will_p ):\n",
        "#         cond_10=True\n",
        "#     else:\n",
        "#         cond_10=False\n",
        "\n",
        "    if(cond_1 & cond_2 & cond_3 & cond_4 & cond_5 & cond_6 & cond_7):\n",
        "        exportList=exportList.append({'Stock': stock, \"50 Day MA\": moving_average_50, \"150 Day Ma\": moving_average_150, \"200 Day MA\": moving_average_200, \"52 Week Low\": low_of_52week, \"52 week High\": high_of_52week}, ignore_index=True)\n",
        "#     except Exception:\n",
        "#         print(\"No data on \"+stock)\n",
        "        \n",
        "exportList.drop_duplicates(subset=['Stock'],inplace=True)\n",
        "print(exportList)\n",
        "\n",
        "# newFile=os.path.dirname(filePath)+\"/ScreenOutput.xlsx\"\n",
        "\n",
        "# writer= ExcelWriter(newFile)"
      ]
    },
    {
      "cell_type": "raw",
      "id": "3aaff67f-42e5-470e-966a-aa1c64ea7056",
      "metadata": {
        "tags": [],
        "id": "3aaff67f-42e5-470e-966a-aa1c64ea7056"
      },
      "source": [
        "exportList.to_excel('screener.xlsx')\n",
        "# writer.save()"
      ]
    },
    {
      "cell_type": "code",
      "execution_count": null,
      "id": "556909b5-5d70-4767-aaeb-a705d7057d9e",
      "metadata": {
        "id": "556909b5-5d70-4767-aaeb-a705d7057d9e"
      },
      "outputs": [],
      "source": []
    }
  ],
  "metadata": {
    "kernelspec": {
      "display_name": "Python 3",
      "language": "python",
      "name": "python3"
    },
    "language_info": {
      "codemirror_mode": {
        "name": "ipython",
        "version": 3
      },
      "file_extension": ".py",
      "mimetype": "text/x-python",
      "name": "python",
      "nbconvert_exporter": "python",
      "pygments_lexer": "ipython3",
      "version": "3.8.8"
    },
    "colab": {
      "provenance": [],
      "include_colab_link": true
    }
  },
  "nbformat": 4,
  "nbformat_minor": 5
}
